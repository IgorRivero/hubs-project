{
 "cells": [
  {
   "cell_type": "markdown",
   "metadata": {
    "application/vnd.databricks.v1+cell": {
     "inputWidgets": {},
     "nuid": "e5cbece9-8a22-40de-a817-24fcf0c232c9",
     "showTitle": false,
     "title": ""
    }
   },
   "source": [
    "### Starting reading the sql file and executing"
   ]
  },
  {
   "cell_type": "code",
   "execution_count": 1,
   "metadata": {
    "application/vnd.databricks.v1+cell": {
     "inputWidgets": {},
     "nuid": "2548c804-8b0c-4a2b-9550-bcfa906b8082",
     "showTitle": false,
     "title": ""
    }
   },
   "outputs": [
    {
     "name": "stderr",
     "output_type": "stream",
     "text": [
      "Setting default log level to \"WARN\".\n",
      "To adjust logging level use sc.setLogLevel(newLevel). For SparkR, use setLogLevel(newLevel).\n"
     ]
    },
    {
     "name": "stdout",
     "output_type": "stream",
     "text": [
      "22/09/26 10:33:16 WARN NativeCodeLoader: Unable to load native-hadoop library for your platform... using builtin-java classes where applicable\n",
      "22/09/26 10:33:17 WARN Utils: Service 'SparkUI' could not bind on port 4040. Attempting port 4041.\n"
     ]
    }
   ],
   "source": [
    "\n",
    "import os\n",
    "import findspark\n",
    "findspark.init()\n",
    "import pyspark\n",
    "from pyspark.sql import SparkSession\n",
    "import sqlite3\n",
    "spark = SparkSession.builder.getOrCreate()\n",
    "conn = sqlite3.connect('hubs.db')\n",
    "cur = conn.cursor()\n"
   ]
  },
  {
   "cell_type": "code",
   "execution_count": 2,
   "metadata": {},
   "outputs": [],
   "source": [
    "#Mounting a dinamic path\n",
    "init_path = os.getcwd()\n",
    "file_name = '/hubs_events.sql'\n",
    "final_path = init_path + file_name\n",
    "\n",
    "with open(final_path, 'r') as sql_file:\n",
    "    query = conn.executescript(sql_file.read())\n",
    "\n",
    "result = cur.execute(\"SELECT * FROM MY_TABLE\").fetchall()\n",
    "cur.execute(\"DROP TABLE MY_TABLE\")\n",
    "conn.close()\n",
    "#calling timestamp as timestamp_datetime to avoid ambiguous columns when we exploid the data column\n",
    "df_spark = spark.createDataFrame(result).toDF('id','timestamp_datetime','name','data')\n"
   ]
  },
  {
   "cell_type": "code",
   "execution_count": 3,
   "metadata": {
    "application/vnd.databricks.v1+cell": {
     "inputWidgets": {},
     "nuid": "5e4a3e24-4f93-48e2-b894-fc0177e4d8fe",
     "showTitle": false,
     "title": ""
    },
    "scrolled": true
   },
   "outputs": [
    {
     "name": "stderr",
     "output_type": "stream",
     "text": [
      "[Stage 0:>                                                          (0 + 1) / 1]\r"
     ]
    },
    {
     "name": "stdout",
     "output_type": "stream",
     "text": [
      "+--------------------+--------------------+--------------------+--------------------+\n",
      "|                  id|  timestamp_datetime|                name|                data|\n",
      "+--------------------+--------------------+--------------------+--------------------+\n",
      "|api-XJQFMJdJnp6E8...|2017-01-04T20:05:...|order/execute/cus...|{\"event\": \"order/...|\n",
      "|04998e62-44de-480...|2017-03-11T18:10:...|order/execute/cus...|{\"event\": \"order/...|\n",
      "|fa356ead-ec8f-49e...|2017-03-25T03:08:...|order/execute/cus...|{\"event\": \"order/...|\n",
      "|f05040d0-d75c-43d...|2017-03-16T15:13:...|order/execute/cus...|{\"event\": \"order/...|\n",
      "|96729095-1923-422...|2017-03-15T16:26:...| node/review/created|{\"event\": \"node/r...|\n",
      "|aa7e25fd-b7d9-47b...|2017-02-21T13:12:...|order/execute/cus...|{\"event\": \"order/...|\n",
      "|b56e3a72-04e9-464...|2017-03-16T12:09:...|order/execute/cus...|{\"event\": \"order/...|\n",
      "|f0c0b5f6-b2fa-4c3...|2017-03-04T17:28:...|order/execute/cus...|{\"event\": \"order/...|\n",
      "|api-Jw0tXl91iPTg7...|2017-01-27T19:28:...|order/execute/cus...|{\"event\": \"order/...|\n",
      "|8b1efd89-f3d1-42d...|2017-03-14T17:52:...|order/execute/cus...|{\"event\": \"order/...|\n",
      "|api-aZH5YXjIYzVBS...|2017-01-13T22:00:...|order/execute/cus...|{\"event\": \"order/...|\n",
      "|bd50f69e-e0b0-406...|2017-02-25T00:21:...|order/execute/cus...|{\"event\": \"order/...|\n",
      "|ba14340f-10ba-4fc...|2017-03-16T15:02:...|order/execute/cus...|{\"event\": \"order/...|\n",
      "|6e14f9c2-a7f6-4b9...|2017-03-29T17:41:...| node/review/created|{\"event\": \"node/r...|\n",
      "|427f99cf-50e0-4ad...|2017-04-01T13:03:...|order/execute/cus...|{\"event\": \"order/...|\n",
      "|api-ZWQRLvhtNzkFa...|2017-02-06T00:26:...|order/execute/cus...|{\"event\": \"order/...|\n",
      "|00c17525-53b7-4eb...|2017-03-23T20:46:...|order/execute/cus...|{\"event\": \"order/...|\n",
      "|4339004e-d533-472...|2017-03-08T13:17:...|order/execute/cus...|{\"event\": \"order/...|\n",
      "|9d73f63f-98df-42f...|2017-03-18T02:36:...|order/execute/cus...|{\"event\": \"order/...|\n",
      "|ec3ce13b-a90b-499...|2017-04-04T14:18:...| node/review/created|{\"event\": \"node/r...|\n",
      "+--------------------+--------------------+--------------------+--------------------+\n",
      "only showing top 20 rows\n",
      "\n"
     ]
    },
    {
     "name": "stderr",
     "output_type": "stream",
     "text": [
      "                                                                                \r"
     ]
    }
   ],
   "source": [
    "df_spark.show()"
   ]
  },
  {
   "cell_type": "markdown",
   "metadata": {
    "application/vnd.databricks.v1+cell": {
     "inputWidgets": {},
     "nuid": "6546b635-15eb-459b-a29a-271c623d60bf",
     "showTitle": false,
     "title": ""
    }
   },
   "source": [
    "###After get all data into a spark dataframe is time to exploid the data column"
   ]
  },
  {
   "cell_type": "code",
   "execution_count": 4,
   "metadata": {
    "application/vnd.databricks.v1+cell": {
     "inputWidgets": {},
     "nuid": "df113882-37f7-4a50-893c-6ff796f62d38",
     "showTitle": false,
     "title": ""
    }
   },
   "outputs": [
    {
     "name": "stdout",
     "output_type": "stream",
     "text": [
      "+--------------------+--------------------+--------------------+--------------------+------+--------+--------------------+--------------+----------------+--------------------+------------------+------------------+--------------------+----------------------+------------------------+--------------------------+--------------------------+\n",
      "|                  id|  timestamp_datetime|                name|               event|hub_id|order_id|           timestamp|price_customer|orderStationType|   orderStationModel|context_traits_uid|review_value_speed|review_value_service|context_traits_persona|orderStationManufacterer|review_value_communication|review_value_print_quality|\n",
      "+--------------------+--------------------+--------------------+--------------------+------+--------+--------------------+--------------+----------------+--------------------+------------------+------------------+--------------------+----------------------+------------------------+--------------------------+--------------------------+\n",
      "|api-XJQFMJdJnp6E8...|2017-01-04T20:05:...|order/execute/cus...|order/execute/cus...| 84241| 4031796| 2017-01-04 17:05:07|       1193.81|             FDM|              UP Box|            196042|              null|                null|                  work|                    UP3D|                      null|                      null|\n",
      "|04998e62-44de-480...|2017-03-11T18:10:...|order/execute/cus...|order/execute/cus...| 69607| 4473029|2017-03-11 15:10:...|        152.78|       SLA + DLP|             SLA5000|             98562|              null|                null|                 study|              3D Systems|                      null|                      null|\n",
      "|fa356ead-ec8f-49e...|2017-03-25T03:08:...|order/execute/cus...|order/execute/cus...|  4450| 4560418|2017-03-25 00:08:...|            93|             FDM|              UP Box|            192358|              null|                null|                  work|                    UP3D|                      null|                      null|\n",
      "|f05040d0-d75c-43d...|2017-03-16T15:13:...|order/execute/cus...|order/execute/cus...|  4450| 4498287|2017-03-16 12:13:...|            69|             FDM|       Airwolf Axiom|            192358|              null|                null|                  work|              Airwolf 3D|                      null|                      null|\n",
      "|96729095-1923-422...|2017-03-15T16:26:...| node/review/created| node/review/created| 62909| 4484946|2017-03-15 13:26:...|         38.37|             FDM|              Kossel|            213926|               100|                 100|              personal|                  RepRap|                       100|                       100|\n",
      "|aa7e25fd-b7d9-47b...|2017-02-21T13:12:...|order/execute/cus...|order/execute/cus...| 84241| 4337244|2017-02-21 10:12:...|         22.89|             FDM|              UP Box|            208409|              null|                null|              personal|                    UP3D|                      null|                      null|\n",
      "|b56e3a72-04e9-464...|2017-03-16T12:09:...|order/execute/cus...|order/execute/cus...|  4450| 4495733|2017-03-16 09:09:...|            11|             FDM|       LulzBot TAZ 6|            214439|              null|                null|              personal|           Aleph Objects|                      null|                      null|\n",
      "|f0c0b5f6-b2fa-4c3...|2017-03-04T17:28:...|order/execute/cus...|order/execute/cus...|  4450| 4421748|2017-03-04 14:28:...|           145|             FDM|        Airwolf HD2x|             48566|              null|                null|                  work|              Airwolf 3D|                      null|                      null|\n",
      "|api-Jw0tXl91iPTg7...|2017-01-27T19:28:...|order/execute/cus...|order/execute/cus...| 84241| 4194418| 2017-01-27 16:28:35|         58.28|             FDM|              UP Box|            200242|              null|                null|                  work|                    UP3D|                      null|                      null|\n",
      "|8b1efd89-f3d1-42d...|2017-03-14T17:52:...|order/execute/cus...|order/execute/cus...| 30352| 4493655|2017-03-14 14:52:...|         19.38|             FDM|        JoysMaker R3|            214248|              null|                null|              personal|                  3D Joy|                      null|                      null|\n",
      "|api-aZH5YXjIYzVBS...|2017-01-13T22:00:...|order/execute/cus...|order/execute/cus...| 84241| 4097545| 2017-01-13 19:00:50|         13.79|       SLA + DLP|              Form 2|            117453|              null|                null|              personal|                Formlabs|                      null|                      null|\n",
      "|bd50f69e-e0b0-406...|2017-02-25T00:21:...|order/execute/cus...|order/execute/cus...|192417| 4376616|2017-02-24 21:21:...|         55.48|       SLA + DLP|              Form 2|            209962|              null|                null|              personal|                Formlabs|                      null|                      null|\n",
      "|ba14340f-10ba-4fc...|2017-03-16T15:02:...|order/execute/cus...|order/execute/cus...|  4450| 4499084|2017-03-16 12:02:...|         11.94|             FDM|        Airwolf HD2x|            154092|              null|                null|              personal|              Airwolf 3D|                      null|                      null|\n",
      "|6e14f9c2-a7f6-4b9...|2017-03-29T17:41:...| node/review/created| node/review/created| 30352| 4291151|2017-03-29 14:41:...|        120.28|             FDM|         Ultimaker 2|            142364|               100|                 100|                  work|               Ultimaker|                       100|                       100|\n",
      "|427f99cf-50e0-4ad...|2017-04-01T13:03:...|order/execute/cus...|order/execute/cus...| 69607| 4608690|2017-04-01 10:03:...|         357.1|       SLA + DLP|             SLA5000|            218313|              null|                null|                 study|              3D Systems|                      null|                      null|\n",
      "|api-ZWQRLvhtNzkFa...|2017-02-06T00:26:...|order/execute/cus...|order/execute/cus...| 30352| 3458906| 2017-02-05 21:26:47|          46.7|       SLA + DLP|              Form 2|            164466|              null|                null|              personal|                Formlabs|                      null|                      null|\n",
      "|00c17525-53b7-4eb...|2017-03-23T20:46:...|order/execute/cus...|order/execute/cus...| 34872| 4554642|2017-03-23 17:46:...|         22.47|       SLA + DLP|              Form 2|            216645|              null|                null|                 study|                Formlabs|                      null|                      null|\n",
      "|4339004e-d533-472...|2017-03-08T13:17:...|order/execute/cus...|order/execute/cus...| 34872| 4266401|2017-03-08 10:17:...|        117.82|             FDM|        Zortrax M200|            129099|              null|                null|                  work|                 Zortrax|                      null|                      null|\n",
      "|9d73f63f-98df-42f...|2017-03-18T02:36:...|order/execute/cus...|order/execute/cus...| 62909| 4517315|2017-03-17 23:36:...|         15.49|             FDM|Original Prusa i3...|            214482|              null|                null|              personal|          Prusa Research|                      null|                      null|\n",
      "|ec3ce13b-a90b-499...|2017-04-04T14:18:...| node/review/created| node/review/created|  4450| 4560418|2017-04-04 11:18:...|            93|             FDM|              UP Box|            192358|               100|                 100|                  work|                    UP3D|                       100|                       100|\n",
      "+--------------------+--------------------+--------------------+--------------------+------+--------+--------------------+--------------+----------------+--------------------+------------------+------------------+--------------------+----------------------+------------------------+--------------------------+--------------------------+\n",
      "only showing top 20 rows\n",
      "\n"
     ]
    }
   ],
   "source": [
    "from pyspark.sql.types import StructType,StructField, StringType, IntegerType, TimestampType, FloatType, DoubleType\n",
    "#from pyspark.sql.functions import col,from_json\n",
    "from pyspark.sql.functions import *\n",
    "\n",
    "schema = StructType([\n",
    "  StructField(\"event\",StringType(),True), \n",
    "  StructField(\"hub_id\",StringType(),True), \n",
    "  StructField(\"order_id\",StringType(),True), \n",
    "  StructField(\"timestamp\", TimestampType(), True),\n",
    "  StructField(\"price_customer\",StringType(),True),\n",
    "  StructField(\"orderStationType\",StringType(),True),\n",
    "  StructField(\"orderStationModel\",StringType(),True),\n",
    "  StructField(\"context_traits_uid\",StringType(),True),\n",
    "  StructField(\"review_value_speed\",StringType(),True),\n",
    "  StructField(\"review_value_service\",StringType(),True),\n",
    "  StructField(\"context_traits_persona\",StringType(),True),\n",
    "  StructField(\"orderStationManufacterer\",StringType(),True),\n",
    "  StructField(\"review_value_communication\",StringType(),True),\n",
    "  StructField(\"review_value_print_quality\",StringType(),True)\n",
    "])\n",
    "#using from_json to exploid data column\n",
    "fulldf = df_spark.withColumn('data', from_json(col('data'),schema)).select('id','timestamp_datetime','name','data.*')\n",
    "fulldf.show()\n"
   ]
  },
  {
   "cell_type": "markdown",
   "metadata": {
    "application/vnd.databricks.v1+cell": {
     "inputWidgets": {},
     "nuid": "c9ee61a5-72d1-49d8-b26d-f7c5b2a383ec",
     "showTitle": false,
     "title": ""
    }
   },
   "source": [
    "### I used some spark sql to get only columns that will be worth keep to do the metrics calculations"
   ]
  },
  {
   "cell_type": "code",
   "execution_count": 5,
   "metadata": {
    "application/vnd.databricks.v1+cell": {
     "inputWidgets": {},
     "nuid": "5ac8b500-06ab-4751-897f-f0e8c3ab7b03",
     "showTitle": false,
     "title": ""
    }
   },
   "outputs": [],
   "source": [
    "#creating a tempView to work with sparkSql\n",
    "fulldf.createOrReplaceTempView('fulldf_table')\n"
   ]
  },
  {
   "cell_type": "markdown",
   "metadata": {
    "application/vnd.databricks.v1+cell": {
     "inputWidgets": {},
     "nuid": "8cb87f6f-e1dd-4bce-87bb-eed343d3b84e",
     "showTitle": false,
     "title": ""
    }
   },
   "source": [
    "## Selecting only the columns we need to the solution"
   ]
  },
  {
   "cell_type": "markdown",
   "metadata": {
    "application/vnd.databricks.v1+cell": {
     "inputWidgets": {},
     "nuid": "da25bc93-f5bb-4815-a644-e53f535849ec",
     "showTitle": false,
     "title": ""
    }
   },
   "source": [
    "### Creating a new dataframe with only columns that will be used to calculate metrics"
   ]
  },
  {
   "cell_type": "code",
   "execution_count": 6,
   "metadata": {
    "application/vnd.databricks.v1+cell": {
     "inputWidgets": {},
     "nuid": "8c588240-b2aa-41b8-989d-4b82042e0c75",
     "showTitle": false,
     "title": ""
    }
   },
   "outputs": [
    {
     "name": "stdout",
     "output_type": "stream",
     "text": [
      "+--------------------+-----------+-----------+--------+--------------------+--------------------+------------------+--------------------------+\n",
      "|              log_id|customer_id|supplier_id|order_id|                date|               event|review_value_speed|review_value_print_quality|\n",
      "+--------------------+-----------+-----------+--------+--------------------+--------------------+------------------+--------------------------+\n",
      "|api-XJQFMJdJnp6E8...|     196042|      84241| 4031796| 2017-01-04 17:05:07|order/execute/cus...|              null|                      null|\n",
      "|04998e62-44de-480...|      98562|      69607| 4473029|2017-03-11 15:10:...|order/execute/cus...|              null|                      null|\n",
      "|fa356ead-ec8f-49e...|     192358|       4450| 4560418|2017-03-25 00:08:...|order/execute/cus...|              null|                      null|\n",
      "|f05040d0-d75c-43d...|     192358|       4450| 4498287|2017-03-16 12:13:...|order/execute/cus...|              null|                      null|\n",
      "|96729095-1923-422...|     213926|      62909| 4484946|2017-03-15 13:26:...| node/review/created|               100|                       100|\n",
      "|aa7e25fd-b7d9-47b...|     208409|      84241| 4337244|2017-02-21 10:12:...|order/execute/cus...|              null|                      null|\n",
      "|b56e3a72-04e9-464...|     214439|       4450| 4495733|2017-03-16 09:09:...|order/execute/cus...|              null|                      null|\n",
      "|f0c0b5f6-b2fa-4c3...|      48566|       4450| 4421748|2017-03-04 14:28:...|order/execute/cus...|              null|                      null|\n",
      "|api-Jw0tXl91iPTg7...|     200242|      84241| 4194418| 2017-01-27 16:28:35|order/execute/cus...|              null|                      null|\n",
      "|8b1efd89-f3d1-42d...|     214248|      30352| 4493655|2017-03-14 14:52:...|order/execute/cus...|              null|                      null|\n",
      "|api-aZH5YXjIYzVBS...|     117453|      84241| 4097545| 2017-01-13 19:00:50|order/execute/cus...|              null|                      null|\n",
      "|bd50f69e-e0b0-406...|     209962|     192417| 4376616|2017-02-24 21:21:...|order/execute/cus...|              null|                      null|\n",
      "|ba14340f-10ba-4fc...|     154092|       4450| 4499084|2017-03-16 12:02:...|order/execute/cus...|              null|                      null|\n",
      "|6e14f9c2-a7f6-4b9...|     142364|      30352| 4291151|2017-03-29 14:41:...| node/review/created|               100|                       100|\n",
      "|427f99cf-50e0-4ad...|     218313|      69607| 4608690|2017-04-01 10:03:...|order/execute/cus...|              null|                      null|\n",
      "|api-ZWQRLvhtNzkFa...|     164466|      30352| 3458906| 2017-02-05 21:26:47|order/execute/cus...|              null|                      null|\n",
      "|00c17525-53b7-4eb...|     216645|      34872| 4554642|2017-03-23 17:46:...|order/execute/cus...|              null|                      null|\n",
      "|4339004e-d533-472...|     129099|      34872| 4266401|2017-03-08 10:17:...|order/execute/cus...|              null|                      null|\n",
      "|9d73f63f-98df-42f...|     214482|      62909| 4517315|2017-03-17 23:36:...|order/execute/cus...|              null|                      null|\n",
      "|ec3ce13b-a90b-499...|     192358|       4450| 4560418|2017-04-04 11:18:...| node/review/created|               100|                       100|\n",
      "+--------------------+-----------+-----------+--------+--------------------+--------------------+------------------+--------------------------+\n",
      "only showing top 20 rows\n",
      "\n"
     ]
    }
   ],
   "source": [
    "df_sample = spark.sql('''\n",
    "select \n",
    "id as log_id,\n",
    "context_traits_uid as customer_id,\n",
    "hub_id as supplier_id,\n",
    "order_id,\n",
    "timestamp as date,\n",
    "event,\n",
    "review_value_speed,\n",
    "review_value_print_quality\n",
    "from fulldf_table\n",
    "''')\n",
    "           \n",
    "                      \n",
    "df_sample.show()"
   ]
  },
  {
   "cell_type": "markdown",
   "metadata": {
    "application/vnd.databricks.v1+cell": {
     "inputWidgets": {},
     "nuid": "06edc15e-e485-4b5b-9466-21a7ba38ef99",
     "showTitle": false,
     "title": ""
    }
   },
   "source": [
    "###Improving the dataset before start"
   ]
  },
  {
   "cell_type": "code",
   "execution_count": 7,
   "metadata": {
    "application/vnd.databricks.v1+cell": {
     "inputWidgets": {},
     "nuid": "928faefe-4c70-42c8-9b67-9f1c465f2300",
     "showTitle": false,
     "title": ""
    }
   },
   "outputs": [
    {
     "data": {
      "text/plain": [
       "DataFrame[log_id: string, customer_id: string, supplier_id: string, order_id: string, date: string, event: string, review_value_speed: string, review_value_print_quality: string, calculated_at: string]"
      ]
     },
     "metadata": {},
     "output_type": "display_data"
    }
   ],
   "source": [
    "#in this step i'm formating the datetime and replacing some null values from review_scores to better calculate in the future\n",
    "df_sample = df_sample.withColumn(\"date\",date_format(col(\"date\"),\"yyyy-MM-dd HH:mm:ss\"))\n",
    "df_sample = df_sample.withColumn(\"calculated_at\",date_format(col(\"date\"),\"yyyy-MM-dd\"))\n",
    "#df_sample=df_sample.na.fill({'review_value_speed':0, 'review_value_print_quality':0})\n",
    "\n",
    "display(df_sample)"
   ]
  },
  {
   "cell_type": "markdown",
   "metadata": {
    "application/vnd.databricks.v1+cell": {
     "inputWidgets": {},
     "nuid": "69d6a60a-d3db-415d-bb77-92e6c6b8e4ba",
     "showTitle": false,
     "title": ""
    }
   },
   "source": [
    "# Calculating the Metrics"
   ]
  },
  {
   "cell_type": "markdown",
   "metadata": {
    "application/vnd.databricks.v1+cell": {
     "inputWidgets": {},
     "nuid": "0ab4e756-fb4c-47a2-8136-2e1e91bd8586",
     "showTitle": false,
     "title": ""
    }
   },
   "source": [
    "## Calculating the average_rating"
   ]
  },
  {
   "cell_type": "code",
   "execution_count": 8,
   "metadata": {
    "application/vnd.databricks.v1+cell": {
     "inputWidgets": {},
     "nuid": "814cbde4-0b21-4ab7-9d29-7bf7152b1eae",
     "showTitle": false,
     "title": ""
    }
   },
   "outputs": [],
   "source": [
    "#Assumptions:\n",
    "#First of all I'm presuming that the average_rating will be calculated as average regarding (review_value_speed + review_value_print_quality)2. In another words the average will be a number regarding both review values\n",
    "#Another assumption I made:\n",
    "# The average_rating is calculated by the last value given by a customer at the end of the day. That means if the first score was 80, but the customer update the score to 100, i'm going to considere this one. Evaluating by the last datetime. This also means that the customer delete his score as the last event of the day, this review will no longer be considered to calculate the average. I'm also not considering null values to calculate the final average."
   ]
  },
  {
   "cell_type": "code",
   "execution_count": 9,
   "metadata": {
    "application/vnd.databricks.v1+cell": {
     "inputWidgets": {},
     "nuid": "cac56b25-660e-49c8-bea9-8a9cde03d789",
     "showTitle": false,
     "title": ""
    }
   },
   "outputs": [
    {
     "name": "stdout",
     "output_type": "stream",
     "text": [
      "+--------------------+-----------+-----------+--------+-------------------+-------------------+------------------+--------------------------+-------------+\n",
      "|              log_id|customer_id|supplier_id|order_id|               date|              event|review_value_speed|review_value_print_quality|calculated_at|\n",
      "+--------------------+-----------+-----------+--------+-------------------+-------------------+------------------+--------------------------+-------------+\n",
      "|96729095-1923-422...|     213926|      62909| 4484946|2017-03-15 13:26:50|node/review/created|               100|                       100|   2017-03-15|\n",
      "|6e14f9c2-a7f6-4b9...|     142364|      30352| 4291151|2017-03-29 14:41:46|node/review/created|               100|                       100|   2017-03-29|\n",
      "|ec3ce13b-a90b-499...|     192358|       4450| 4560418|2017-04-04 11:18:31|node/review/created|               100|                       100|   2017-04-04|\n",
      "|cd495436-565d-43f...|     208998|      34872| 4354608|2017-02-24 19:32:39|node/review/created|               100|                       100|   2017-02-24|\n",
      "|5c022355-8f59-482...|     147755|      62909| 4268276|2017-03-16 10:26:11|node/review/created|               100|                       100|   2017-03-16|\n",
      "|56ca774d-a99e-4b4...|     212702|      69607| 4484291|2017-03-27 09:31:32|node/review/updated|              null|                      null|   2017-03-27|\n",
      "|api-BsaRhFunw6ies...|     188979|       4450| 3885826|2017-01-27 17:54:00|node/review/created|                80|                        60|   2017-01-27|\n",
      "|api-RgUnfyPDkndB4...|     202404|      84241| 4193919|2017-01-27 17:44:32|node/review/created|               100|                       100|   2017-01-27|\n",
      "|api-smaDO8jKzsUdK...|     201283|      69607| 4179976|2017-02-10 23:54:51|node/review/updated|              null|                      null|   2017-02-10|\n",
      "|b9df5068-2d96-40e...|     213929|      34872| 4514974|2017-03-22 10:57:53|node/review/created|               100|                       100|   2017-03-22|\n",
      "|api-FQARWqc8NWzu5...|      51468|      30352| 3994815|2017-01-11 05:37:47|node/review/deleted|               100|                       100|   2017-01-11|\n",
      "|8b8888a4-4366-401...|     208880|      30352| 4351742|2017-02-22 17:38:45|node/review/created|               100|                       100|   2017-02-22|\n",
      "|4d0760dc-d444-46b...|     136020|      69607| 2854657|2017-04-05 23:10:43|node/review/created|               100|                       100|   2017-04-05|\n",
      "|c7927866-99a2-4e1...|     189236|      34872| 4472025|2017-03-15 09:03:29|node/review/created|               100|                        80|   2017-03-15|\n",
      "|api-YBFCLSeSXwqml...|     143445|      84241| 4004861|2017-01-03 15:06:46|node/review/created|               100|                       100|   2017-01-03|\n",
      "|5ae66e0e-a185-427...|     201283|      69607| 4362720|2017-03-17 13:05:34|node/review/created|               100|                       100|   2017-03-17|\n",
      "|c991f2f9-20a8-446...|     212059|      84241| 4433179|2017-03-11 15:26:56|node/review/updated|              null|                      null|   2017-03-11|\n",
      "|api-MN6EjBHgGGzke...|     183154|       4450| 3784648|2017-01-26 16:31:55|node/review/created|               100|                       100|   2017-01-26|\n",
      "|api-o09GAFfnCHzA3...|       3135|      34872| 4126540|2017-01-23 14:50:30|node/review/created|               100|                        80|   2017-01-23|\n",
      "|421a348a-d7b1-4a5...|     213895|      34872| 4484371|2017-03-29 09:05:32|node/review/created|               100|                       100|   2017-03-29|\n",
      "+--------------------+-----------+-----------+--------+-------------------+-------------------+------------------+--------------------------+-------------+\n",
      "only showing top 20 rows\n",
      "\n"
     ]
    }
   ],
   "source": [
    "#first selecting only rows that bring us reviews information\n",
    "df_sample.createOrReplaceTempView('df_sample_table')\n",
    "df_reviews = spark.sql('SELECT * FROM df_sample_table WHERE event LIKE \"node/review%\" ')\n",
    "df_reviews.show()"
   ]
  },
  {
   "cell_type": "code",
   "execution_count": 10,
   "metadata": {
    "application/vnd.databricks.v1+cell": {
     "inputWidgets": {},
     "nuid": "bdcff9a1-9542-4f0b-be66-3682b8f47a4e",
     "showTitle": false,
     "title": ""
    }
   },
   "outputs": [],
   "source": [
    "df_reviews.createOrReplaceTempView('df_reviews_table')"
   ]
  },
  {
   "cell_type": "code",
   "execution_count": 11,
   "metadata": {
    "application/vnd.databricks.v1+cell": {
     "inputWidgets": {},
     "nuid": "4bfc843a-f0f1-4da4-bc7b-c3fb3825924c",
     "showTitle": false,
     "title": ""
    }
   },
   "outputs": [
    {
     "name": "stdout",
     "output_type": "stream",
     "text": [
      "+--------------------+-----------+-----------+--------+-------------------+-------------------+------------------+--------------------------+-------------+---+\n",
      "|              log_id|customer_id|supplier_id|order_id|               date|              event|review_value_speed|review_value_print_quality|calculated_at|SEQ|\n",
      "+--------------------+-----------+-----------+--------+-------------------+-------------------+------------------+--------------------------+-------------+---+\n",
      "|api-nMV61di2FJV8y...|     194699|       4450| 4006543|2017-01-02 19:45:18|node/review/created|               100|                       100|   2017-01-02|  1|\n",
      "|api-5FCnL6WpMcj4w...|     194699|       4450| 4015913|2017-01-02 20:20:39|node/review/created|               100|                       100|   2017-01-02|  1|\n",
      "|api-LOyj19YiaA6BN...|     165139|     100130| 3451200|2017-01-03 07:38:57|node/review/created|               100|                        80|   2017-01-03|  1|\n",
      "|api-ygFGCfGFHVa9S...|     174934|     165195| 3917401|2017-01-03 13:42:09|node/review/created|               100|                       100|   2017-01-03|  1|\n",
      "|api-501fqMAUJQORA...|     193870|      30352| 3985921|2017-01-03 17:34:34|node/review/created|               100|                       100|   2017-01-03|  1|\n",
      "|api-zZkiTxjh93EEx...|     154527|      34872| 3194344|2017-01-03 19:10:58|node/review/updated|               100|                        80|   2017-01-03|  1|\n",
      "|api-B3QUzB7SDt6zl...|     178573|       4450| 4001372|2017-01-03 23:21:05|node/review/created|               100|                       100|   2017-01-03|  1|\n",
      "|api-YBFCLSeSXwqml...|     143445|      84241| 4004861|2017-01-03 15:06:46|node/review/created|               100|                       100|   2017-01-03|  1|\n",
      "|api-9WctKgZWpTRDX...|     143445|      84241| 4011742|2017-01-03 15:07:30|node/review/created|               100|                       100|   2017-01-03|  1|\n",
      "|api-PHj5LTTE00GRj...|     191030|      30352| 3942904|2017-01-04 13:18:41|node/review/created|               100|                       100|   2017-01-04|  1|\n",
      "|api-b8aw1YKROoQjS...|     195503|      69607| 4022222|2017-01-05 02:11:41|node/review/created|               100|                        80|   2017-01-05|  1|\n",
      "|api-qDHkA7JSOm0gr...|     195964|      84241| 4030606|2017-01-05 17:33:54|node/review/created|               100|                       100|   2017-01-05|  1|\n",
      "|api-w86IOP657M6hm...|     195400|      30352| 4020843|2017-01-06 19:24:44|node/review/created|               100|                       100|   2017-01-06|  1|\n",
      "|api-EvG9yO5MGe68M...|     123490|      62909| 3976932|2017-01-06 22:20:19|node/review/updated|              null|                      null|   2017-01-06|  1|\n",
      "|api-59JlPRMO8MhhT...|      87925|      62909| 4021861|2017-01-06 22:17:06|node/review/updated|              null|                      null|   2017-01-06|  1|\n",
      "|api-FXCQbbnFGVNwZ...|      79392|      84241| 3985004|2017-01-06 20:01:11|node/review/created|               100|                       100|   2017-01-06|  1|\n",
      "|api-B4j0balH14QkF...|     189459|      69607| 3976666|2017-01-08 12:59:38|node/review/updated|              null|                      null|   2017-01-08|  1|\n",
      "|api-uHjuOPiF5aoQt...|     184075|      30352| 4015660|2017-01-09 17:42:38|node/review/created|               100|                       100|   2017-01-09|  1|\n",
      "|api-kOV9mQoQCge9I...|     154092|       4450| 3991366|2017-01-09 21:45:00|node/review/created|               100|                       100|   2017-01-09|  1|\n",
      "|api-FbHLGPY3DKtGN...|     192082|      62909| 3974599|2017-01-09 22:21:10|node/review/created|               100|                        80|   2017-01-09|  1|\n",
      "+--------------------+-----------+-----------+--------+-------------------+-------------------+------------------+--------------------------+-------------+---+\n",
      "only showing top 20 rows\n",
      "\n"
     ]
    }
   ],
   "source": [
    "#creating a dataframe with the last update from each order by day\n",
    "df_lastUpdate = spark.sql('''\n",
    "\n",
    "Select t.* \n",
    "FROM\n",
    "(SELECT *, --calculated_at,supplier_id, order_id, customer_id,date,event,log_id, \n",
    "ROW_NUMBER() OVER (PARTITION BY calculated_at,supplier_id, order_id, customer_id ORDER BY date desc ) as SEQ\n",
    "FROM df_reviews_table \n",
    ") t\n",
    "where SEQ = 1\n",
    "and event <> \"node/review/deleted\"\n",
    "--and (review_value_speed is not null or review_value_print_quality is not null)\n",
    "\n",
    "\n",
    "\n",
    "'''\n",
    ")\n",
    "df_lastUpdate.show()"
   ]
  },
  {
   "cell_type": "code",
   "execution_count": 12,
   "metadata": {
    "application/vnd.databricks.v1+cell": {
     "inputWidgets": {},
     "nuid": "44e8af93-628a-453b-81a9-f0f37046e1ba",
     "showTitle": false,
     "title": ""
    }
   },
   "outputs": [],
   "source": [
    "df_lastUpdate.createOrReplaceTempView('df_lastUpdate_table')"
   ]
  },
  {
   "cell_type": "code",
   "execution_count": 13,
   "metadata": {
    "application/vnd.databricks.v1+cell": {
     "inputWidgets": {},
     "nuid": "ae4c029a-e96c-434f-82be-e7eb079f9e49",
     "showTitle": false,
     "title": ""
    }
   },
   "outputs": [
    {
     "name": "stdout",
     "output_type": "stream",
     "text": [
      "+-------------+-----------+--------------+-----+\n",
      "|calculated_at|supplier_id|        metric|value|\n",
      "+-------------+-----------+--------------+-----+\n",
      "|   2017-01-02|       4450|average_rating|  100|\n",
      "|   2017-01-03|     165195|average_rating|  100|\n",
      "|   2017-01-03|       4450|average_rating|  100|\n",
      "|   2017-01-03|      30352|average_rating|  100|\n",
      "|   2017-01-03|      34872|average_rating|   90|\n",
      "|   2017-01-03|      84241|average_rating|  100|\n",
      "|   2017-01-03|     100130|average_rating|   90|\n",
      "|   2017-01-04|      30352|average_rating|  100|\n",
      "|   2017-01-05|      84241|average_rating|  100|\n",
      "|   2017-01-05|      69607|average_rating|   90|\n",
      "|   2017-01-06|      30352|average_rating|  100|\n",
      "|   2017-01-06|      84241|average_rating|  100|\n",
      "|   2017-01-09|       4450|average_rating|  100|\n",
      "|   2017-01-09|      30352|average_rating|  100|\n",
      "|   2017-01-09|      62909|average_rating|   90|\n",
      "|   2017-01-10|       4450|average_rating|  100|\n",
      "|   2017-01-11|      30352|average_rating|  100|\n",
      "|   2017-01-11|      84241|average_rating|  100|\n",
      "|   2017-01-11|       4450|average_rating|96.67|\n",
      "|   2017-01-12|      84241|average_rating|   90|\n",
      "+-------------+-----------+--------------+-----+\n",
      "only showing top 20 rows\n",
      "\n"
     ]
    }
   ],
   "source": [
    "df_average_rating = spark.sql('''\n",
    "\n",
    "--Second select to calculate average between the two values calculated beforeavg(speed) and avg(print_quality)\n",
    "Select t1.calculated_at\n",
    ", t1.supplier_id\n",
    ", \"average_rating\" as metric\n",
    ", format_number((t1.m1 + t1.m2)/2, '##.##') as value from \n",
    "\n",
    "(\n",
    "--Fist Select to calculate a average for each review(speed and print_quality)\n",
    "Select calculated_at,supplier_id,AVG(review_value_speed) as m1 ,AVG(review_value_print_quality) as m2 from df_lastUpdate_table group by 1,2 order by calculated_at) \n",
    "as t1\n",
    "where (t1.m1 + t1.m2)/2 is not null\n",
    "\n",
    "\n",
    "''')\n",
    "df_average_rating.show()"
   ]
  },
  {
   "cell_type": "code",
   "execution_count": 14,
   "metadata": {
    "application/vnd.databricks.v1+cell": {
     "inputWidgets": {},
     "nuid": "c73afe65-ad20-4a06-8543-98d8ea0da93e",
     "showTitle": false,
     "title": ""
    }
   },
   "outputs": [],
   "source": [
    "#CREATING A TABLE WITH METRIC 1"
   ]
  },
  {
   "cell_type": "markdown",
   "metadata": {
    "application/vnd.databricks.v1+cell": {
     "inputWidgets": {},
     "nuid": "52a182fe-64db-4a43-979b-2955551e515b",
     "showTitle": false,
     "title": ""
    }
   },
   "source": [
    "## Calculating the acceptance_ratio"
   ]
  },
  {
   "cell_type": "code",
   "execution_count": 15,
   "metadata": {
    "application/vnd.databricks.v1+cell": {
     "inputWidgets": {},
     "nuid": "ec8933f2-4a84-4686-8573-7bb295af0346",
     "showTitle": false,
     "title": ""
    }
   },
   "outputs": [],
   "source": [
    "#Assumptions:I'm assuming that when the supplier has no order received, they will not be able to get a acceptance_ratio for that day. Also i'm pressuming that when a order was not accepted in the same day it was received, it will not count on the following days."
   ]
  },
  {
   "cell_type": "code",
   "execution_count": 16,
   "metadata": {
    "application/vnd.databricks.v1+cell": {
     "inputWidgets": {},
     "nuid": "449a6ddd-2abd-4943-8547-eacb8fbd1a12",
     "showTitle": false,
     "title": ""
    }
   },
   "outputs": [
    {
     "name": "stdout",
     "output_type": "stream",
     "text": [
      "+--------------------+-----------+-----------+--------+-------------------+--------------------+------------------+--------------------------+-------------+\n",
      "|              log_id|customer_id|supplier_id|order_id|               date|               event|review_value_speed|review_value_print_quality|calculated_at|\n",
      "+--------------------+-----------+-----------+--------+-------------------+--------------------+------------------+--------------------------+-------------+\n",
      "|api-XJQFMJdJnp6E8...|     196042|      84241| 4031796|2017-01-04 17:05:07|order/execute/cus...|              null|                      null|   2017-01-04|\n",
      "|04998e62-44de-480...|      98562|      69607| 4473029|2017-03-11 15:10:28|order/execute/cus...|              null|                      null|   2017-03-11|\n",
      "|fa356ead-ec8f-49e...|     192358|       4450| 4560418|2017-03-25 00:08:54|order/execute/cus...|              null|                      null|   2017-03-25|\n",
      "|f05040d0-d75c-43d...|     192358|       4450| 4498287|2017-03-16 12:13:04|order/execute/cus...|              null|                      null|   2017-03-16|\n",
      "|96729095-1923-422...|     213926|      62909| 4484946|2017-03-15 13:26:50| node/review/created|               100|                       100|   2017-03-15|\n",
      "|aa7e25fd-b7d9-47b...|     208409|      84241| 4337244|2017-02-21 10:12:25|order/execute/cus...|              null|                      null|   2017-02-21|\n",
      "|b56e3a72-04e9-464...|     214439|       4450| 4495733|2017-03-16 09:09:24|order/execute/cus...|              null|                      null|   2017-03-16|\n",
      "|f0c0b5f6-b2fa-4c3...|      48566|       4450| 4421748|2017-03-04 14:28:47|order/execute/cus...|              null|                      null|   2017-03-04|\n",
      "|api-Jw0tXl91iPTg7...|     200242|      84241| 4194418|2017-01-27 16:28:35|order/execute/cus...|              null|                      null|   2017-01-27|\n",
      "|8b1efd89-f3d1-42d...|     214248|      30352| 4493655|2017-03-14 14:52:11|order/execute/cus...|              null|                      null|   2017-03-14|\n",
      "|api-aZH5YXjIYzVBS...|     117453|      84241| 4097545|2017-01-13 19:00:50|order/execute/cus...|              null|                      null|   2017-01-13|\n",
      "|bd50f69e-e0b0-406...|     209962|     192417| 4376616|2017-02-24 21:21:22|order/execute/cus...|              null|                      null|   2017-02-24|\n",
      "|ba14340f-10ba-4fc...|     154092|       4450| 4499084|2017-03-16 12:02:40|order/execute/cus...|              null|                      null|   2017-03-16|\n",
      "|6e14f9c2-a7f6-4b9...|     142364|      30352| 4291151|2017-03-29 14:41:46| node/review/created|               100|                       100|   2017-03-29|\n",
      "|427f99cf-50e0-4ad...|     218313|      69607| 4608690|2017-04-01 10:03:43|order/execute/cus...|              null|                      null|   2017-04-01|\n",
      "|api-ZWQRLvhtNzkFa...|     164466|      30352| 3458906|2017-02-05 21:26:47|order/execute/cus...|              null|                      null|   2017-02-05|\n",
      "|00c17525-53b7-4eb...|     216645|      34872| 4554642|2017-03-23 17:46:29|order/execute/cus...|              null|                      null|   2017-03-23|\n",
      "|4339004e-d533-472...|     129099|      34872| 4266401|2017-03-08 10:17:25|order/execute/cus...|              null|                      null|   2017-03-08|\n",
      "|9d73f63f-98df-42f...|     214482|      62909| 4517315|2017-03-17 23:36:12|order/execute/cus...|              null|                      null|   2017-03-17|\n",
      "|ec3ce13b-a90b-499...|     192358|       4450| 4560418|2017-04-04 11:18:31| node/review/created|               100|                       100|   2017-04-04|\n",
      "+--------------------+-----------+-----------+--------+-------------------+--------------------+------------------+--------------------------+-------------+\n",
      "only showing top 20 rows\n",
      "\n"
     ]
    }
   ],
   "source": [
    "#Using the dataframe we got with all columns we need to this solution\n",
    "df_sample.show()"
   ]
  },
  {
   "cell_type": "code",
   "execution_count": 17,
   "metadata": {
    "application/vnd.databricks.v1+cell": {
     "inputWidgets": {},
     "nuid": "0187aa22-ee37-4627-a745-c593589d7609",
     "showTitle": false,
     "title": ""
    }
   },
   "outputs": [],
   "source": [
    "#creating a tempview to work using spark sql\n",
    "df_sample.createOrReplaceTempView('df_sample_table')"
   ]
  },
  {
   "cell_type": "code",
   "execution_count": 18,
   "metadata": {
    "application/vnd.databricks.v1+cell": {
     "inputWidgets": {},
     "nuid": "82797b7c-140c-4031-9986-f11ef3ea212f",
     "showTitle": false,
     "title": ""
    }
   },
   "outputs": [
    {
     "name": "stdout",
     "output_type": "stream",
     "text": [
      "+--------------------+-----------+-----------+--------+-------------------+--------------------+------------------+--------------------------+-------------+--------------+--------------+\n",
      "|              log_id|customer_id|supplier_id|order_id|               date|               event|review_value_speed|review_value_print_quality|calculated_at|received_order|order_accepted|\n",
      "+--------------------+-----------+-----------+--------+-------------------+--------------------+------------------+--------------------------+-------------+--------------+--------------+\n",
      "|api-XJQFMJdJnp6E8...|     196042|      84241| 4031796|2017-01-04 17:05:07|order/execute/cus...|              null|                      null|   2017-01-04|             1|             0|\n",
      "|04998e62-44de-480...|      98562|      69607| 4473029|2017-03-11 15:10:28|order/execute/cus...|              null|                      null|   2017-03-11|             1|             0|\n",
      "|fa356ead-ec8f-49e...|     192358|       4450| 4560418|2017-03-25 00:08:54|order/execute/cus...|              null|                      null|   2017-03-25|             0|             0|\n",
      "|f05040d0-d75c-43d...|     192358|       4450| 4498287|2017-03-16 12:13:04|order/execute/cus...|              null|                      null|   2017-03-16|             0|             0|\n",
      "|aa7e25fd-b7d9-47b...|     208409|      84241| 4337244|2017-02-21 10:12:25|order/execute/cus...|              null|                      null|   2017-02-21|             0|             0|\n",
      "|b56e3a72-04e9-464...|     214439|       4450| 4495733|2017-03-16 09:09:24|order/execute/cus...|              null|                      null|   2017-03-16|             0|             0|\n",
      "|f0c0b5f6-b2fa-4c3...|      48566|       4450| 4421748|2017-03-04 14:28:47|order/execute/cus...|              null|                      null|   2017-03-04|             0|             0|\n",
      "|api-Jw0tXl91iPTg7...|     200242|      84241| 4194418|2017-01-27 16:28:35|order/execute/cus...|              null|                      null|   2017-01-27|             0|             0|\n",
      "|8b1efd89-f3d1-42d...|     214248|      30352| 4493655|2017-03-14 14:52:11|order/execute/cus...|              null|                      null|   2017-03-14|             1|             0|\n",
      "|api-aZH5YXjIYzVBS...|     117453|      84241| 4097545|2017-01-13 19:00:50|order/execute/cus...|              null|                      null|   2017-01-13|             0|             0|\n",
      "|bd50f69e-e0b0-406...|     209962|     192417| 4376616|2017-02-24 21:21:22|order/execute/cus...|              null|                      null|   2017-02-24|             0|             1|\n",
      "|ba14340f-10ba-4fc...|     154092|       4450| 4499084|2017-03-16 12:02:40|order/execute/cus...|              null|                      null|   2017-03-16|             0|             1|\n",
      "|427f99cf-50e0-4ad...|     218313|      69607| 4608690|2017-04-01 10:03:43|order/execute/cus...|              null|                      null|   2017-04-01|             0|             1|\n",
      "|api-ZWQRLvhtNzkFa...|     164466|      30352| 3458906|2017-02-05 21:26:47|order/execute/cus...|              null|                      null|   2017-02-05|             0|             1|\n",
      "|00c17525-53b7-4eb...|     216645|      34872| 4554642|2017-03-23 17:46:29|order/execute/cus...|              null|                      null|   2017-03-23|             1|             0|\n",
      "|4339004e-d533-472...|     129099|      34872| 4266401|2017-03-08 10:17:25|order/execute/cus...|              null|                      null|   2017-03-08|             0|             1|\n",
      "|9d73f63f-98df-42f...|     214482|      62909| 4517315|2017-03-17 23:36:12|order/execute/cus...|              null|                      null|   2017-03-17|             1|             0|\n",
      "|f6bb66f4-5f55-4e0...|     129416|       4450| 4319753|2017-02-16 00:47:21|order/execute/cus...|              null|                      null|   2017-02-16|             0|             1|\n",
      "|53c83bba-16aa-491...|     167126|      34872| 3958804|2017-04-05 10:08:01|order/execute/cus...|              null|                      null|   2017-04-05|             0|             0|\n",
      "|ed701455-8168-492...|     214482|      62909| 4517315|2017-03-18 07:31:01|order/execute/cus...|              null|                      null|   2017-03-18|             0|             0|\n",
      "+--------------------+-----------+-----------+--------+-------------------+--------------------+------------------+--------------------------+-------------+--------------+--------------+\n",
      "only showing top 20 rows\n",
      "\n"
     ]
    }
   ],
   "source": [
    "#First lets put a flag to better calculate when a order got the status processing(it happens when the supplier got)\n",
    "df_flagged_sample = spark.sql('''\n",
    "select *, \n",
    "case when event like \"order/execute/customer/status/processing\" then 1\n",
    "else 0\n",
    "end as received_order,\n",
    "case when event like \"order/execute/customer/status/payment\" then 1\n",
    "else 0\n",
    "end order_accepted\n",
    "from df_sample_table where event like \"%order%\"\n",
    "''')\n",
    "\n",
    "df_flagged_sample.show()"
   ]
  },
  {
   "cell_type": "code",
   "execution_count": 19,
   "metadata": {
    "application/vnd.databricks.v1+cell": {
     "inputWidgets": {},
     "nuid": "0d0f8262-f0f6-4ac1-876f-a780400bc518",
     "showTitle": false,
     "title": ""
    }
   },
   "outputs": [],
   "source": [
    "# In order to be able to build the logic to accept only orders that were accepted the same day were received, I had to group by date(or calculated_at column), supplier and order. After all of this I was able to aggregate to build the final metric"
   ]
  },
  {
   "cell_type": "code",
   "execution_count": 20,
   "metadata": {
    "application/vnd.databricks.v1+cell": {
     "inputWidgets": {},
     "nuid": "37bd0550-2cac-4ced-8a93-8559b588ac77",
     "showTitle": false,
     "title": ""
    }
   },
   "outputs": [],
   "source": [
    "#Now let's use the new dataframe to calculate the acceptance_ratio \n",
    "df_flagged_sample.createOrReplaceTempView(\"flagged_sample_table\")"
   ]
  },
  {
   "cell_type": "code",
   "execution_count": 21,
   "metadata": {
    "application/vnd.databricks.v1+cell": {
     "inputWidgets": {},
     "nuid": "f4b8b76e-cada-497a-b31b-f22f54e7f615",
     "showTitle": false,
     "title": ""
    }
   },
   "outputs": [],
   "source": [
    "df_flagged_sample.createOrReplaceTempView(\"flagged_sample_table\")"
   ]
  },
  {
   "cell_type": "code",
   "execution_count": 22,
   "metadata": {},
   "outputs": [],
   "source": [
    "#First used a group by to consolidate all events until order_id, this way is easy to see if the order events\n",
    "#Second subselect was used only to filter days that the supplier got orders, and to avoid orders that were accepted by a diferent day that was received"
   ]
  },
  {
   "cell_type": "code",
   "execution_count": 23,
   "metadata": {
    "application/vnd.databricks.v1+cell": {
     "inputWidgets": {},
     "nuid": "c9e5bbd0-733c-4514-899f-3e2813dba03d",
     "showTitle": false,
     "title": ""
    }
   },
   "outputs": [
    {
     "name": "stdout",
     "output_type": "stream",
     "text": [
      "+-------------+-----------+----------------+------+\n",
      "|calculated_at|supplier_id|          metric| value|\n",
      "+-------------+-----------+----------------+------+\n",
      "|   2017-01-01|       4450|acceptance_ratio|    0%|\n",
      "|   2017-01-01|      84241|acceptance_ratio|    0%|\n",
      "|   2017-01-02|      18815|acceptance_ratio|  100%|\n",
      "|   2017-01-02|      30352|acceptance_ratio|   50%|\n",
      "|   2017-01-02|      34872|acceptance_ratio|    0%|\n",
      "|   2017-01-02|       4450|acceptance_ratio|   75%|\n",
      "|   2017-01-03|       4450|acceptance_ratio|66.67%|\n",
      "|   2017-01-03|      62909|acceptance_ratio|    0%|\n",
      "|   2017-01-03|      69607|acceptance_ratio|66.67%|\n",
      "|   2017-01-03|      84241|acceptance_ratio|66.67%|\n",
      "|   2017-01-04|      34872|acceptance_ratio|    0%|\n",
      "|   2017-01-04|       4450|acceptance_ratio|   50%|\n",
      "|   2017-01-04|      69607|acceptance_ratio|    0%|\n",
      "|   2017-01-04|      84241|acceptance_ratio|   75%|\n",
      "|   2017-01-05|      30352|acceptance_ratio|  100%|\n",
      "|   2017-01-05|      34872|acceptance_ratio|  100%|\n",
      "|   2017-01-05|       4450|acceptance_ratio|  100%|\n",
      "|   2017-01-05|      62909|acceptance_ratio|  100%|\n",
      "|   2017-01-05|      69607|acceptance_ratio|  100%|\n",
      "|   2017-01-05|      84241|acceptance_ratio|   80%|\n",
      "+-------------+-----------+----------------+------+\n",
      "only showing top 20 rows\n",
      "\n"
     ]
    }
   ],
   "source": [
    "df_acceptance_ratio = spark.sql('''\n",
    "\n",
    "select t2.calculated_at,\n",
    "t2.supplier_id\n",
    "--,SUM(t2.order_accepted_qtd) as qtd_accepted\n",
    "--,SUM(t2.received_order_qtd) as qtd_received\n",
    ",\"acceptance_ratio\" as metric\n",
    ",format_number(SUM(t2.order_accepted_qtd)/SUM(t2.received_order_qtd),'##.##%') as value\n",
    "from (\n",
    "\n",
    "select t.* --This subselect was used only to filter days that the supplier got orders, and to avoid orders that were accepted by a diferent day that was received\n",
    "\n",
    "from (\n",
    "\n",
    "select calculated_at --First used a group by to consolidate all events until order_id, this way is easy to see if the order events\n",
    ",supplier_id\n",
    ",order_id\n",
    ",sum(received_order) as received_order_qtd\n",
    ",sum(order_accepted) as order_accepted_qtd \n",
    "from flagged_sample_table \n",
    "group by 1,2,3 \n",
    "order by 1\n",
    ") t\n",
    "\n",
    "where received_order_qtd >= order_accepted_qtd\n",
    "and received_order_qtd = 1\n",
    ")t2\n",
    "\n",
    "group by 1,2 order by 1,2\n",
    "\n",
    "\n",
    "''')\n",
    "\n",
    "\n",
    "df_acceptance_ratio.show()"
   ]
  },
  {
   "cell_type": "code",
   "execution_count": null,
   "metadata": {
    "application/vnd.databricks.v1+cell": {
     "inputWidgets": {},
     "nuid": "b7520c5c-37a0-42e0-80f3-14c2f1e26011",
     "showTitle": false,
     "title": ""
    }
   },
   "outputs": [],
   "source": []
  },
  {
   "cell_type": "code",
   "execution_count": 24,
   "metadata": {
    "application/vnd.databricks.v1+cell": {
     "inputWidgets": {},
     "nuid": "d0dc9413-8987-4162-b6aa-1cf4b840f458",
     "showTitle": false,
     "title": ""
    }
   },
   "outputs": [
    {
     "name": "stdout",
     "output_type": "stream",
     "text": [
      "+-------------+-----------+--------------+-----+\n",
      "|calculated_at|supplier_id|        metric|value|\n",
      "+-------------+-----------+--------------+-----+\n",
      "|   2017-01-02|       4450|average_rating|  100|\n",
      "|   2017-01-03|      34872|average_rating|   90|\n",
      "|   2017-01-03|       4450|average_rating|  100|\n",
      "|   2017-01-03|      84241|average_rating|  100|\n",
      "|   2017-01-03|     100130|average_rating|   90|\n",
      "|   2017-01-03|     165195|average_rating|  100|\n",
      "|   2017-01-03|      30352|average_rating|  100|\n",
      "|   2017-01-04|      30352|average_rating|  100|\n",
      "|   2017-01-05|      84241|average_rating|  100|\n",
      "|   2017-01-05|      69607|average_rating|   90|\n",
      "|   2017-01-06|      84241|average_rating|  100|\n",
      "|   2017-01-06|      30352|average_rating|  100|\n",
      "|   2017-01-09|      62909|average_rating|   90|\n",
      "|   2017-01-09|       4450|average_rating|  100|\n",
      "|   2017-01-09|      30352|average_rating|  100|\n",
      "|   2017-01-10|       4450|average_rating|  100|\n",
      "|   2017-01-11|      84241|average_rating|  100|\n",
      "|   2017-01-11|       4450|average_rating|96.67|\n",
      "|   2017-01-11|      30352|average_rating|  100|\n",
      "|   2017-01-12|      84241|average_rating|   90|\n",
      "+-------------+-----------+--------------+-----+\n",
      "only showing top 20 rows\n",
      "\n"
     ]
    }
   ],
   "source": [
    "df_supplier_score_metrics = df_average_rating.union(df_acceptance_ratio)\n",
    "df_supplier_score_metrics.show()"
   ]
  },
  {
   "cell_type": "code",
   "execution_count": 25,
   "metadata": {
    "application/vnd.databricks.v1+cell": {
     "inputWidgets": {},
     "nuid": "29fb6f29-c8b9-4352-9916-17a3f8e1c611",
     "showTitle": false,
     "title": ""
    }
   },
   "outputs": [
    {
     "name": "stderr",
     "output_type": "stream",
     "text": [
      "                                                                                \r"
     ]
    },
    {
     "name": "stdout",
     "output_type": "stream",
     "text": [
      "+-------------+-----------+----------------+------+\n",
      "|calculated_at|supplier_id|          metric| value|\n",
      "+-------------+-----------+----------------+------+\n",
      "|   2017-01-01|       4450|acceptance_ratio|    0%|\n",
      "|   2017-01-01|      84241|acceptance_ratio|    0%|\n",
      "|   2017-01-02|      18815|acceptance_ratio|  100%|\n",
      "|   2017-01-02|      30352|acceptance_ratio|   50%|\n",
      "|   2017-01-02|      34872|acceptance_ratio|    0%|\n",
      "|   2017-01-02|       4450|acceptance_ratio|   75%|\n",
      "|   2017-01-03|       4450|acceptance_ratio|66.67%|\n",
      "|   2017-01-03|      62909|acceptance_ratio|    0%|\n",
      "|   2017-01-03|      69607|acceptance_ratio|66.67%|\n",
      "|   2017-01-03|      84241|acceptance_ratio|66.67%|\n",
      "|   2017-01-04|      34872|acceptance_ratio|    0%|\n",
      "|   2017-01-04|       4450|acceptance_ratio|   50%|\n",
      "|   2017-01-04|      69607|acceptance_ratio|    0%|\n",
      "|   2017-01-04|      84241|acceptance_ratio|   75%|\n",
      "|   2017-01-05|      30352|acceptance_ratio|  100%|\n",
      "|   2017-01-05|      34872|acceptance_ratio|  100%|\n",
      "|   2017-01-05|       4450|acceptance_ratio|  100%|\n",
      "|   2017-01-05|      62909|acceptance_ratio|  100%|\n",
      "|   2017-01-05|      69607|acceptance_ratio|  100%|\n",
      "|   2017-01-05|      84241|acceptance_ratio|   80%|\n",
      "+-------------+-----------+----------------+------+\n",
      "only showing top 20 rows\n",
      "\n"
     ]
    }
   ],
   "source": [
    "df_supplier_score_metrics.write.mode(\"overwrite\").saveAsTable(\"supplier_score_metrics\")\n",
    "spark.sql(\"select * from supplier_score_metrics \").show()"
   ]
  },
  {
   "cell_type": "code",
   "execution_count": 26,
   "metadata": {},
   "outputs": [
    {
     "name": "stdout",
     "output_type": "stream",
     "text": [
      "+---------+--------------------+-----------+\n",
      "|namespace|           tableName|isTemporary|\n",
      "+---------+--------------------+-----------+\n",
      "|  default|supplier_score_me...|      false|\n",
      "|         | df_lastupdate_table|       true|\n",
      "|         |    df_reviews_table|       true|\n",
      "|         |     df_sample_table|       true|\n",
      "|         |flagged_sample_table|       true|\n",
      "|         |        fulldf_table|       true|\n",
      "+---------+--------------------+-----------+\n",
      "\n"
     ]
    }
   ],
   "source": [
    "spark.sql(\"show tables\").show()"
   ]
  },
  {
   "cell_type": "code",
   "execution_count": null,
   "metadata": {},
   "outputs": [],
   "source": []
  }
 ],
 "metadata": {
  "application/vnd.databricks.v1+notebook": {
   "dashboards": [],
   "language": "python",
   "notebookMetadata": {
    "pythonIndentUnit": 2
   },
   "notebookName": "lab02-d",
   "notebookOrigID": 338146400469811,
   "widgets": {}
  },
  "kernelspec": {
   "display_name": "Python 3.9.6 64-bit",
   "language": "python",
   "name": "python3"
  },
  "language_info": {
   "codemirror_mode": {
    "name": "ipython",
    "version": 3
   },
   "file_extension": ".py",
   "mimetype": "text/x-python",
   "name": "python",
   "nbconvert_exporter": "python",
   "pygments_lexer": "ipython3",
   "version": "3.9.6"
  },
  "vscode": {
   "interpreter": {
    "hash": "949777d72b0d2535278d3dc13498b2535136f6dfe0678499012e853ee9abcab1"
   }
  }
 },
 "nbformat": 4,
 "nbformat_minor": 1
}
